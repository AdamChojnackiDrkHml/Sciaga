{
 "cells": [
  {
   "cell_type": "markdown",
   "metadata": {},
   "source": [
    " Symulacje zadan z poprzednich egzaminow, w celu weryfikacji poprawnosci odpowiedzi."
   ]
  },
  {
   "cell_type": "markdown",
   "metadata": {},
   "source": [
    "# Egzamin 2"
   ]
  },
  {
   "cell_type": "markdown",
   "metadata": {},
   "source": [
    "# Zadanie 1"
   ]
  },
  {
   "cell_type": "code",
   "execution_count": 21,
   "metadata": {},
   "outputs": [
    {
     "name": "stdout",
     "output_type": "stream",
     "text": [
      "Expected value of comparisons:  6.053\n"
     ]
    }
   ],
   "source": [
    "import random\n",
    "import numpy as np\n",
    "\n",
    "def binary_search(A, x):\n",
    "    low = 0\n",
    "    high = len(A) - 1\n",
    "    comparisons = 0\n",
    "\n",
    "    while low <= high:\n",
    "        comparisons += 1\n",
    "        mid = (high + low) // 2\n",
    "        if A[mid] < x:\n",
    "            low = mid + 1\n",
    "        elif A[mid] > x:\n",
    "            high = mid - 1\n",
    "        elif A[mid] == x:\n",
    "            return comparisons\n",
    "        else :\n",
    "            return -10000000\n",
    "\n",
    "    return comparisons\n",
    "\n",
    "def generate_sorted_list(n, max_value):\n",
    "    A = random.sample(range(1, max_value), n)  \n",
    "    A.sort()  \n",
    "    return A\n",
    "\n",
    "def binary_search_experiment(k, trials, max_value):\n",
    "    results = []\n",
    "    for _ in range(trials):\n",
    "        n = (2 ** k) -1\n",
    "        A = generate_sorted_list(n, max_value)\n",
    "        x = random.choice(A)\n",
    "        results.append(binary_search(A, x))\n",
    "    return np.mean(results)\n",
    "\n",
    "k = 7\n",
    "max_value = 100000\n",
    "trials = 10000\n",
    "\n",
    "print(\"Expected value of comparisons: \", binary_search_experiment(k, trials, max_value))"
   ]
  },
  {
   "cell_type": "markdown",
   "metadata": {},
   "source": [
    "# Zadanie 2"
   ]
  },
  {
   "cell_type": "code",
   "execution_count": 2,
   "metadata": {},
   "outputs": [
    {
     "name": "stdout",
     "output_type": "stream",
     "text": [
      "Expected value: 5.992408\n",
      "Variance: 21.915544361535996\n"
     ]
    }
   ],
   "source": [
    "import random\n",
    "import numpy as np\n",
    "\n",
    "def simulate():\n",
    "    position = 'C'\n",
    "    days = 0\n",
    "    while position != 'A':\n",
    "        days += 1\n",
    "        if position == 'C':\n",
    "            position = random.choice(['B', 'D'])\n",
    "        elif position == 'B':\n",
    "            position = random.choice(['A', 'C'])\n",
    "        elif position == 'D':\n",
    "            position = random.choice(['C', 'E'])\n",
    "        elif position == 'E':\n",
    "            position = random.choice(['D', 'A'])\n",
    "    return days\n",
    "\n",
    "N = 1000000\n",
    "results = [simulate() for _ in range(N)]\n",
    "print(\"Expected value:\", np.mean(results))\n",
    "print(\"Variance:\", np.var(results))"
   ]
  },
  {
   "cell_type": "markdown",
   "metadata": {},
   "source": [
    "# Zadanie 3"
   ]
  },
  {
   "cell_type": "code",
   "execution_count": 25,
   "metadata": {},
   "outputs": [
    {
     "name": "stdout",
     "output_type": "stream",
     "text": [
      "Average number of days with job: 0.800108\n",
      "From formula: 0.6834170854271358\n"
     ]
    }
   ],
   "source": [
    "import random\n",
    "import numpy as np\n",
    "\n",
    "def simulate_employment(n, ph, pf):\n",
    "    employed = True  \n",
    "    employed_evenings = 0\n",
    "\n",
    "    for _ in range(n):\n",
    "        if employed:\n",
    "            if random.random() < pf:\n",
    "                employed = False\n",
    "        else:\n",
    "            if random.random() < ph:\n",
    "                employed = True\n",
    "\n",
    "        if employed:\n",
    "            employed_evenings += 1\n",
    "\n",
    "    return employed_evenings\n",
    "\n",
    "n = 1\n",
    "ph = 0.4\n",
    "pf = 0.2\n",
    "trials = 1000\n",
    "results = [simulate_employment(n, ph, pf) for _ in range(N)]\n",
    "print(\"Average number of days with job:\", np.mean(results))\n",
    "\n",
    "\n",
    "# Formula\n",
    "# X - no days for lose job\n",
    "# Y - no days for gain job \n",
    "# Z - avg no days with job \n",
    "\n",
    "EX = (2 - 4*pf + 2 * pf * pf + (1 - pf * pf)*2 + pf) / (2 * pf - pf * pf)\n",
    "EY = (2 - 4*ph + 2 * ph * ph + (1 - ph * ph)*2 + ph) / (2 * ph - ph * ph)\n",
    "\n",
    "EZ = n  * EX / (EX + EY)\n",
    "print(\"From formula:\", EZ)"
   ]
  }
 ],
 "metadata": {
  "kernelspec": {
   "display_name": "Python 3",
   "language": "python",
   "name": "python3"
  },
  "language_info": {
   "codemirror_mode": {
    "name": "ipython",
    "version": 3
   },
   "file_extension": ".py",
   "mimetype": "text/x-python",
   "name": "python",
   "nbconvert_exporter": "python",
   "pygments_lexer": "ipython3",
   "version": "3.11.4"
  }
 },
 "nbformat": 4,
 "nbformat_minor": 2
}
